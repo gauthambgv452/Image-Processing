{
 "cells": [
  {
   "cell_type": "code",
   "execution_count": 3,
   "metadata": {},
   "outputs": [],
   "source": []
  },
  {
   "cell_type": "code",
   "execution_count": 16,
   "metadata": {},
   "outputs": [],
   "source": [
    "import cv2\n",
    "import numpy as np\n",
    "import time\n",
    "\n",
    "capture = cv2.VideoCapture(0)\n",
    "time.sleep(5)\n",
    "count = 0\n",
    "background = 0\n",
    "\n",
    "out = cv2.VideoWriter('output.mp4', -1, 20.0, (640,480))\n",
    "\n",
    "for i in range(60):\n",
    "    return_value, background = capture.read()\n",
    "background = np.flip(background, axis=1)    \n",
    "\n",
    "while(capture.isOpened()):\n",
    "    return_value, image = capture.read()\n",
    "    \n",
    "    if not return_value:\n",
    "        break\n",
    "    count+=1\n",
    "    image = np.flip(image,axis = 1)\n",
    "    \n",
    "    hsv = cv2.cvtColor(image, cv2.COLOR_BGR2HSV)\n",
    "    \n",
    "#    lower_red = np.array([110,50,50])\n",
    "#    upper_red = np.array([120,255,255])\n",
    "\n",
    "    lower_red = np.array([0,70,50])\n",
    "    upper_red = np.array([10,255,255])\n",
    "    mask1 = cv2.inRange(hsv,lower_red, upper_red)\n",
    "\n",
    "    lower_red = np.array([170,70,50])\n",
    "    upper_red = np.array([180,255,255])\n",
    "    mask2 = cv2.inRange(hsv,lower_red, upper_red)\n",
    "\n",
    "    mask1 = mask1 + mask2\n",
    "    \n",
    "    mask1 = cv2.morphologyEx(mask1, cv2.MORPH_OPEN, np.ones((3,3),np.uint8),iterations = 2)\n",
    "    mask1 = cv2.dilate(mask1, np.ones((3,3), np.uint8),iterations=1)\n",
    "    mask2 = cv2.bitwise_not(mask1)\n",
    "    \n",
    "    ndarray1 = cv2.bitwise_and(background,background,mask=mask1)\n",
    "    ndarray2 = cv2.bitwise_and(image,image,mask=mask2)\n",
    "    output   = cv2.addWeighted(ndarray1,1,ndarray2,1,0)\n",
    "    \n",
    "    cv2.imshow(\"Harry Potter - Cloak of Invisibility\", output)\n",
    "    out.write(output)\n",
    "    return_val = cv2.waitKey(10)\n",
    "    if return_val == 27:\n",
    "        break\n",
    "\n",
    "out.release()\n",
    "cv2.destroyAllWindows()   \n",
    "cv2.VideoCapture.release(capture)"
   ]
  }
 ],
 "metadata": {
  "kernelspec": {
   "display_name": "Python 3",
   "language": "python",
   "name": "python3"
  },
  "language_info": {
   "codemirror_mode": {
    "name": "ipython",
    "version": 3
   },
   "file_extension": ".py",
   "mimetype": "text/x-python",
   "name": "python",
   "nbconvert_exporter": "python",
   "pygments_lexer": "ipython3",
   "version": "3.6.8"
  }
 },
 "nbformat": 4,
 "nbformat_minor": 2
}
